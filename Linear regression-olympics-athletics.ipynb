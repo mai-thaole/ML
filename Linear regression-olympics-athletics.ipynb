{
  "nbformat": 4,
  "nbformat_minor": 0,
  "metadata": {
    "colab": {
      "provenance": []
    },
    "kernelspec": {
      "name": "python3",
      "display_name": "Python 3"
    },
    "language_info": {
      "name": "python"
    }
  },
  "cells": [
    {
      "cell_type": "code",
      "execution_count": null,
      "metadata": {
        "colab": {
          "base_uri": "https://localhost:8080/"
        },
        "id": "QoFFkRAozDE0",
        "outputId": "28348fef-6058-49f7-d858-9396c4390d75"
      },
      "outputs": [
        {
          "output_type": "stream",
          "name": "stdout",
          "text": [
            "   year  time\n",
            "0  1896  12.0\n",
            "1  1900  11.0\n",
            "2  1904  11.0\n",
            "3  1906  11.2\n",
            "4  1908  10.8\n",
            "5  1912  10.8\n",
            "6  1920  10.8\n",
            "7  1924  10.6\n",
            "8  1928  10.8\n",
            "9  1932  10.3\n"
          ]
        }
      ],
      "source": [
        "import pandas as pd\n",
        "import numpy as np\n",
        "import seaborn as sns\n",
        "import matplotlib.pyplot as plt\n",
        "\n",
        "file_name = \"https://raw.githubusercontent.com/rajeevratan84/datascienceforbusiness/master/olympic100m.csv\"\n",
        "\n",
        "# Đọc file CSV với xử lý lỗi\n",
        "df = pd.read_csv(file_name)\n",
        "\n",
        "# Hiển thị 10 dòng đầu tiên\n",
        "print(df.head(10))\n"
      ]
    },
    {
      "cell_type": "code",
      "source": [
        "df.tail()"
      ],
      "metadata": {
        "colab": {
          "base_uri": "https://localhost:8080/",
          "height": 206
        },
        "id": "sev13igW9wsv",
        "outputId": "8c6111ca-79ae-4a73-d60f-71318c044eea"
      },
      "execution_count": null,
      "outputs": [
        {
          "output_type": "execute_result",
          "data": {
            "text/plain": [
              "    year  time\n",
              "24  2000  9.87\n",
              "25  2004  9.85\n",
              "26  2008  9.69\n",
              "27  2012  9.63\n",
              "28  2016  9.81"
            ],
            "text/html": [
              "\n",
              "  <div id=\"df-04d92e91-523c-40d2-a904-9066e0b3a198\" class=\"colab-df-container\">\n",
              "    <div>\n",
              "<style scoped>\n",
              "    .dataframe tbody tr th:only-of-type {\n",
              "        vertical-align: middle;\n",
              "    }\n",
              "\n",
              "    .dataframe tbody tr th {\n",
              "        vertical-align: top;\n",
              "    }\n",
              "\n",
              "    .dataframe thead th {\n",
              "        text-align: right;\n",
              "    }\n",
              "</style>\n",
              "<table border=\"1\" class=\"dataframe\">\n",
              "  <thead>\n",
              "    <tr style=\"text-align: right;\">\n",
              "      <th></th>\n",
              "      <th>year</th>\n",
              "      <th>time</th>\n",
              "    </tr>\n",
              "  </thead>\n",
              "  <tbody>\n",
              "    <tr>\n",
              "      <th>24</th>\n",
              "      <td>2000</td>\n",
              "      <td>9.87</td>\n",
              "    </tr>\n",
              "    <tr>\n",
              "      <th>25</th>\n",
              "      <td>2004</td>\n",
              "      <td>9.85</td>\n",
              "    </tr>\n",
              "    <tr>\n",
              "      <th>26</th>\n",
              "      <td>2008</td>\n",
              "      <td>9.69</td>\n",
              "    </tr>\n",
              "    <tr>\n",
              "      <th>27</th>\n",
              "      <td>2012</td>\n",
              "      <td>9.63</td>\n",
              "    </tr>\n",
              "    <tr>\n",
              "      <th>28</th>\n",
              "      <td>2016</td>\n",
              "      <td>9.81</td>\n",
              "    </tr>\n",
              "  </tbody>\n",
              "</table>\n",
              "</div>\n",
              "    <div class=\"colab-df-buttons\">\n",
              "\n",
              "  <div class=\"colab-df-container\">\n",
              "    <button class=\"colab-df-convert\" onclick=\"convertToInteractive('df-04d92e91-523c-40d2-a904-9066e0b3a198')\"\n",
              "            title=\"Convert this dataframe to an interactive table.\"\n",
              "            style=\"display:none;\">\n",
              "\n",
              "  <svg xmlns=\"http://www.w3.org/2000/svg\" height=\"24px\" viewBox=\"0 -960 960 960\">\n",
              "    <path d=\"M120-120v-720h720v720H120Zm60-500h600v-160H180v160Zm220 220h160v-160H400v160Zm0 220h160v-160H400v160ZM180-400h160v-160H180v160Zm440 0h160v-160H620v160ZM180-180h160v-160H180v160Zm440 0h160v-160H620v160Z\"/>\n",
              "  </svg>\n",
              "    </button>\n",
              "\n",
              "  <style>\n",
              "    .colab-df-container {\n",
              "      display:flex;\n",
              "      gap: 12px;\n",
              "    }\n",
              "\n",
              "    .colab-df-convert {\n",
              "      background-color: #E8F0FE;\n",
              "      border: none;\n",
              "      border-radius: 50%;\n",
              "      cursor: pointer;\n",
              "      display: none;\n",
              "      fill: #1967D2;\n",
              "      height: 32px;\n",
              "      padding: 0 0 0 0;\n",
              "      width: 32px;\n",
              "    }\n",
              "\n",
              "    .colab-df-convert:hover {\n",
              "      background-color: #E2EBFA;\n",
              "      box-shadow: 0px 1px 2px rgba(60, 64, 67, 0.3), 0px 1px 3px 1px rgba(60, 64, 67, 0.15);\n",
              "      fill: #174EA6;\n",
              "    }\n",
              "\n",
              "    .colab-df-buttons div {\n",
              "      margin-bottom: 4px;\n",
              "    }\n",
              "\n",
              "    [theme=dark] .colab-df-convert {\n",
              "      background-color: #3B4455;\n",
              "      fill: #D2E3FC;\n",
              "    }\n",
              "\n",
              "    [theme=dark] .colab-df-convert:hover {\n",
              "      background-color: #434B5C;\n",
              "      box-shadow: 0px 1px 3px 1px rgba(0, 0, 0, 0.15);\n",
              "      filter: drop-shadow(0px 1px 2px rgba(0, 0, 0, 0.3));\n",
              "      fill: #FFFFFF;\n",
              "    }\n",
              "  </style>\n",
              "\n",
              "    <script>\n",
              "      const buttonEl =\n",
              "        document.querySelector('#df-04d92e91-523c-40d2-a904-9066e0b3a198 button.colab-df-convert');\n",
              "      buttonEl.style.display =\n",
              "        google.colab.kernel.accessAllowed ? 'block' : 'none';\n",
              "\n",
              "      async function convertToInteractive(key) {\n",
              "        const element = document.querySelector('#df-04d92e91-523c-40d2-a904-9066e0b3a198');\n",
              "        const dataTable =\n",
              "          await google.colab.kernel.invokeFunction('convertToInteractive',\n",
              "                                                    [key], {});\n",
              "        if (!dataTable) return;\n",
              "\n",
              "        const docLinkHtml = 'Like what you see? Visit the ' +\n",
              "          '<a target=\"_blank\" href=https://colab.research.google.com/notebooks/data_table.ipynb>data table notebook</a>'\n",
              "          + ' to learn more about interactive tables.';\n",
              "        element.innerHTML = '';\n",
              "        dataTable['output_type'] = 'display_data';\n",
              "        await google.colab.output.renderOutput(dataTable, element);\n",
              "        const docLink = document.createElement('div');\n",
              "        docLink.innerHTML = docLinkHtml;\n",
              "        element.appendChild(docLink);\n",
              "      }\n",
              "    </script>\n",
              "  </div>\n",
              "\n",
              "\n",
              "<div id=\"df-adaa818c-9535-4f3a-a598-86965a79b0de\">\n",
              "  <button class=\"colab-df-quickchart\" onclick=\"quickchart('df-adaa818c-9535-4f3a-a598-86965a79b0de')\"\n",
              "            title=\"Suggest charts\"\n",
              "            style=\"display:none;\">\n",
              "\n",
              "<svg xmlns=\"http://www.w3.org/2000/svg\" height=\"24px\"viewBox=\"0 0 24 24\"\n",
              "     width=\"24px\">\n",
              "    <g>\n",
              "        <path d=\"M19 3H5c-1.1 0-2 .9-2 2v14c0 1.1.9 2 2 2h14c1.1 0 2-.9 2-2V5c0-1.1-.9-2-2-2zM9 17H7v-7h2v7zm4 0h-2V7h2v10zm4 0h-2v-4h2v4z\"/>\n",
              "    </g>\n",
              "</svg>\n",
              "  </button>\n",
              "\n",
              "<style>\n",
              "  .colab-df-quickchart {\n",
              "      --bg-color: #E8F0FE;\n",
              "      --fill-color: #1967D2;\n",
              "      --hover-bg-color: #E2EBFA;\n",
              "      --hover-fill-color: #174EA6;\n",
              "      --disabled-fill-color: #AAA;\n",
              "      --disabled-bg-color: #DDD;\n",
              "  }\n",
              "\n",
              "  [theme=dark] .colab-df-quickchart {\n",
              "      --bg-color: #3B4455;\n",
              "      --fill-color: #D2E3FC;\n",
              "      --hover-bg-color: #434B5C;\n",
              "      --hover-fill-color: #FFFFFF;\n",
              "      --disabled-bg-color: #3B4455;\n",
              "      --disabled-fill-color: #666;\n",
              "  }\n",
              "\n",
              "  .colab-df-quickchart {\n",
              "    background-color: var(--bg-color);\n",
              "    border: none;\n",
              "    border-radius: 50%;\n",
              "    cursor: pointer;\n",
              "    display: none;\n",
              "    fill: var(--fill-color);\n",
              "    height: 32px;\n",
              "    padding: 0;\n",
              "    width: 32px;\n",
              "  }\n",
              "\n",
              "  .colab-df-quickchart:hover {\n",
              "    background-color: var(--hover-bg-color);\n",
              "    box-shadow: 0 1px 2px rgba(60, 64, 67, 0.3), 0 1px 3px 1px rgba(60, 64, 67, 0.15);\n",
              "    fill: var(--button-hover-fill-color);\n",
              "  }\n",
              "\n",
              "  .colab-df-quickchart-complete:disabled,\n",
              "  .colab-df-quickchart-complete:disabled:hover {\n",
              "    background-color: var(--disabled-bg-color);\n",
              "    fill: var(--disabled-fill-color);\n",
              "    box-shadow: none;\n",
              "  }\n",
              "\n",
              "  .colab-df-spinner {\n",
              "    border: 2px solid var(--fill-color);\n",
              "    border-color: transparent;\n",
              "    border-bottom-color: var(--fill-color);\n",
              "    animation:\n",
              "      spin 1s steps(1) infinite;\n",
              "  }\n",
              "\n",
              "  @keyframes spin {\n",
              "    0% {\n",
              "      border-color: transparent;\n",
              "      border-bottom-color: var(--fill-color);\n",
              "      border-left-color: var(--fill-color);\n",
              "    }\n",
              "    20% {\n",
              "      border-color: transparent;\n",
              "      border-left-color: var(--fill-color);\n",
              "      border-top-color: var(--fill-color);\n",
              "    }\n",
              "    30% {\n",
              "      border-color: transparent;\n",
              "      border-left-color: var(--fill-color);\n",
              "      border-top-color: var(--fill-color);\n",
              "      border-right-color: var(--fill-color);\n",
              "    }\n",
              "    40% {\n",
              "      border-color: transparent;\n",
              "      border-right-color: var(--fill-color);\n",
              "      border-top-color: var(--fill-color);\n",
              "    }\n",
              "    60% {\n",
              "      border-color: transparent;\n",
              "      border-right-color: var(--fill-color);\n",
              "    }\n",
              "    80% {\n",
              "      border-color: transparent;\n",
              "      border-right-color: var(--fill-color);\n",
              "      border-bottom-color: var(--fill-color);\n",
              "    }\n",
              "    90% {\n",
              "      border-color: transparent;\n",
              "      border-bottom-color: var(--fill-color);\n",
              "    }\n",
              "  }\n",
              "</style>\n",
              "\n",
              "  <script>\n",
              "    async function quickchart(key) {\n",
              "      const quickchartButtonEl =\n",
              "        document.querySelector('#' + key + ' button');\n",
              "      quickchartButtonEl.disabled = true;  // To prevent multiple clicks.\n",
              "      quickchartButtonEl.classList.add('colab-df-spinner');\n",
              "      try {\n",
              "        const charts = await google.colab.kernel.invokeFunction(\n",
              "            'suggestCharts', [key], {});\n",
              "      } catch (error) {\n",
              "        console.error('Error during call to suggestCharts:', error);\n",
              "      }\n",
              "      quickchartButtonEl.classList.remove('colab-df-spinner');\n",
              "      quickchartButtonEl.classList.add('colab-df-quickchart-complete');\n",
              "    }\n",
              "    (() => {\n",
              "      let quickchartButtonEl =\n",
              "        document.querySelector('#df-adaa818c-9535-4f3a-a598-86965a79b0de button');\n",
              "      quickchartButtonEl.style.display =\n",
              "        google.colab.kernel.accessAllowed ? 'block' : 'none';\n",
              "    })();\n",
              "  </script>\n",
              "</div>\n",
              "\n",
              "    </div>\n",
              "  </div>\n"
            ],
            "application/vnd.google.colaboratory.intrinsic+json": {
              "type": "dataframe",
              "summary": "{\n  \"name\": \"df\",\n  \"rows\": 5,\n  \"fields\": [\n    {\n      \"column\": \"year\",\n      \"properties\": {\n        \"dtype\": \"number\",\n        \"std\": 6,\n        \"min\": 2000,\n        \"max\": 2016,\n        \"num_unique_values\": 5,\n        \"samples\": [\n          2004,\n          2016,\n          2008\n        ],\n        \"semantic_type\": \"\",\n        \"description\": \"\"\n      }\n    },\n    {\n      \"column\": \"time\",\n      \"properties\": {\n        \"dtype\": \"number\",\n        \"std\": 0.10488088481701478,\n        \"min\": 9.63,\n        \"max\": 9.87,\n        \"num_unique_values\": 5,\n        \"samples\": [\n          9.85,\n          9.81,\n          9.69\n        ],\n        \"semantic_type\": \"\",\n        \"description\": \"\"\n      }\n    }\n  ]\n}"
            }
          },
          "metadata": {},
          "execution_count": 69
        }
      ]
    },
    {
      "cell_type": "code",
      "source": [
        "x = df['year']\n",
        "x_train = np.array(x).reshape((-1,1))\n",
        "x_train.shape"
      ],
      "metadata": {
        "colab": {
          "base_uri": "https://localhost:8080/"
        },
        "id": "o4gEuCXc31TI",
        "outputId": "d8300326-cc54-4f12-f371-998fc94eea67"
      },
      "execution_count": null,
      "outputs": [
        {
          "output_type": "execute_result",
          "data": {
            "text/plain": [
              "(29, 1)"
            ]
          },
          "metadata": {},
          "execution_count": 70
        }
      ]
    },
    {
      "cell_type": "code",
      "source": [
        "y_train = np.array(df['time'])\n",
        "y_train.shape"
      ],
      "metadata": {
        "colab": {
          "base_uri": "https://localhost:8080/"
        },
        "id": "ulXAtAK94lgA",
        "outputId": "890a4134-0822-4397-fe0d-e926fde5cfc7"
      },
      "execution_count": null,
      "outputs": [
        {
          "output_type": "execute_result",
          "data": {
            "text/plain": [
              "(29,)"
            ]
          },
          "metadata": {},
          "execution_count": 71
        }
      ]
    },
    {
      "cell_type": "code",
      "source": [
        "import numpy as np\n",
        "from sklearn.linear_model import LinearRegression\n",
        "\n",
        "model = LinearRegression()\n",
        "model.fit(x_train, y_train)\n",
        "\n",
        "y_pred = model.predict(x_train)\n",
        "plt.scatter(x_train, y_train)\n",
        "plt.plot(x_train, y_pred, color='red')\n",
        "plt.show()"
      ],
      "metadata": {
        "colab": {
          "base_uri": "https://localhost:8080/",
          "height": 430
        },
        "id": "fCWqtFno4ybO",
        "outputId": "a14839e6-0e9f-4283-aff1-b350a19e964d"
      },
      "execution_count": null,
      "outputs": [
        {
          "output_type": "display_data",
          "data": {
            "text/plain": [
              "<Figure size 640x480 with 1 Axes>"
            ],
            "image/png": "[encoded data removed]"
          },
          "metadata": {}
        }
      ]
    },
    {
      "cell_type": "code",
      "source": [
        "# Dự đoán cho năm 2020\n",
        "x_2020 = np.array([2020]).reshape(-1,1)\n",
        "x_2020.shape"
      ],
      "metadata": {
        "colab": {
          "base_uri": "https://localhost:8080/"
        },
        "id": "usm8BYY_9lv5",
        "outputId": "9b51a2b1-321f-428b-f3d2-3c2211b2d6a1"
      },
      "execution_count": null,
      "outputs": [
        {
          "output_type": "execute_result",
          "data": {
            "text/plain": [
              "(1, 1)"
            ]
          },
          "metadata": {},
          "execution_count": 73
        }
      ]
    },
    {
      "cell_type": "code",
      "source": [
        "model.predict(x_2020)"
      ],
      "metadata": {
        "colab": {
          "base_uri": "https://localhost:8080/"
        },
        "id": "YdOOwlzq9-K3",
        "outputId": "716a7c3c-dfca-4f41-b24e-3b3c4d9f1fac"
      },
      "execution_count": null,
      "outputs": [
        {
          "output_type": "execute_result",
          "data": {
            "text/plain": [
              "array([9.52679525])"
            ]
          },
          "metadata": {},
          "execution_count": 74
        }
      ]
    },
    {
      "cell_type": "markdown",
      "source": [
        "#scatter"
      ],
      "metadata": {
        "id": "8TrH8Caz-2UZ"
      }
    },
    {
      "cell_type": "markdown",
      "source": [
        "Công thức toán học cho hàm chi phí (cost function) **Mean Squared Error (MSE)**. Đây là hàm chi phí phổ biến trong **hồi quy tuyến tính** để đánh giá mức độ sai lệch giữa giá trị dự đoán (mx_i + b\\) và giá trị thực tế y_i.\n",
        "\n",
        "Công thức toán học cho hàm chi phí (công thức **MSE**) là:\n",
        "\n",
        "\n",
        "![image.png](data:image/png;base64,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)\n",
        "\n",
        "Trong đó:\n",
        "-  J(m, b) : Hàm chi phí (Cost function) cần tối thiểu hóa.\n",
        "- n: Số lượng điểm dữ liệu (số lượng giá trị trong tập dữ liệu).\n",
        "- y_i: Giá trị thực tế của dữ liệu tại điểm thứ i.\n",
        "- x_i: Giá trị đầu vào tại điểm thứ i.\n",
        "- m: Hệ số góc của đường thẳng hồi quy (slope).\n",
        "- b: Hệ số chệch của đường thẳng hồi quy (intercept).\n"
      ],
      "metadata": {
        "id": "RdzP5MjY-iwP"
      }
    },
    {
      "cell_type": "code",
      "source": [
        "#Hàm chi phí\n",
        "def cost_function(m, b, x, y):\n",
        "    totalError = 0\n",
        "    for i in range(0, len(x)):\n",
        "        totalError += (y[i]-(m*x[i]+b))**2\n",
        "    return totalError/float(len(x))"
      ],
      "metadata": {
        "id": "FxJNVKiO_XfB"
      },
      "execution_count": null,
      "outputs": []
    },
    {
      "cell_type": "code",
      "source": [
        "# Thực hiện gradient descent\n",
        "def gradient_descent(b, m, x, y, learning_rate, num_iterations):\n",
        "    N = float(len(x))\n",
        "\n",
        "    for j in range(num_iterations):\n",
        "        b_gradient = 0\n",
        "        m_gradient = 0\n",
        "        for i in range(0, len(x)):\n",
        "            b_gradient += -(2/N) * (y[i] - ((m * x[i]) + b))\n",
        "            m_gradient += -(2/N) * x[i] * (y[i] - ((m * x[i]) + b))\n",
        "        b -= (learning_rate * b_gradient)\n",
        "        m -= (learning_rate * m_gradient)\n",
        "\n",
        "        if j%100==0:\n",
        "            print(\"MSE after \" + str(j) + \" iterations: \" + str(cost_function(m, b, x, y)))\n",
        "    return [b, m]"
      ],
      "metadata": {
        "id": "HxJvPslH_1jg"
      },
      "execution_count": null,
      "outputs": []
    },
    {
      "cell_type": "code",
      "source": [
        "learning_rate = 0.0000001\n",
        "\n",
        "initial_b = -2\n",
        "initial_m = -5\n",
        "\n",
        "num_iterations= 1000\n",
        "\n",
        "x = df['year']\n",
        "y= df['time']\n",
        "\n",
        "print('Initial MSE:', cost_function(initial_m, initial_b, x, y))\n",
        "[b, m] = gradient_descent(initial_b, initial_m, x, y, learning_rate, num_iterations)\n",
        "print('b:', b)\n",
        "print('m:', m)\n",
        "print('MSE:', cost_function(m, b, x, y))"
      ],
      "metadata": {
        "colab": {
          "base_uri": "https://localhost:8080/"
        },
        "id": "BHZ39TyXAzGR",
        "outputId": "b517787e-f54e-4e79-83fe-138a5d3cc640"
      },
      "execution_count": 100,
      "outputs": [
        {
          "output_type": "stream",
          "name": "stdout",
          "text": [
            "Initial MSE: 95985230.0051862\n",
            "MSE after 0 iterations: 5258008.192680159\n",
            "MSE after 100 iterations: 0.559010712956903\n",
            "MSE after 200 iterations: 0.5590107055783036\n",
            "MSE after 300 iterations: 0.5590106981997042\n",
            "MSE after 400 iterations: 0.5590106908211052\n",
            "MSE after 500 iterations: 0.5590106834425057\n",
            "MSE after 600 iterations: 0.5590106760639066\n",
            "MSE after 700 iterations: 0.5590106686853076\n",
            "MSE after 800 iterations: 0.5590106613067083\n",
            "MSE after 900 iterations: 0.5590106539281094\n",
            "b: -1.997439562736605\n",
            "m: 0.00630030445737274\n",
            "MSE: 0.5590106466232969\n"
          ]
        }
      ]
    },
    {
      "cell_type": "code",
      "source": [
        "predictions = [(m * x[i]) + b for i in range(len(x))]\n",
        "plt.scatter(x, y)\n",
        "plt.plot(x, predictions, color='r')"
      ],
      "metadata": {
        "colab": {
          "base_uri": "https://localhost:8080/",
          "height": 448
        },
        "id": "Lnbh6r9VBIWg",
        "outputId": "ab268e7d-32a1-4f73-81d5-46f53cc0b454"
      },
      "execution_count": 101,
      "outputs": [
        {
          "output_type": "execute_result",
          "data": {
            "text/plain": [
              "[<matplotlib.lines.Line2D at 0x7cb94be5aed0>]"
            ]
          },
          "metadata": {},
          "execution_count": 101
        },
        {
          "output_type": "display_data",
          "data": {
            "text/plain": [
              "<Figure size 640x480 with 1 Axes>"
            ],
            "image/png": "[encoded data removed]"
          },
          "metadata": {}
        }
      ]
    },
    {
      "cell_type": "code",
      "source": [],
      "metadata": {
        "id": "wFURy0TnB0dI"
      },
      "execution_count": null,
      "outputs": []
    }
  ]
}